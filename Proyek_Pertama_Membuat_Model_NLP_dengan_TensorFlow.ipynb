{
  "nbformat": 4,
  "nbformat_minor": 0,
  "metadata": {
    "colab": {
      "provenance": []
    },
    "kernelspec": {
      "name": "python3",
      "display_name": "Python 3"
    },
    "language_info": {
      "name": "python"
    },
    "accelerator": "GPU",
    "gpuClass": "standard"
  },
  "cells": [
    {
      "cell_type": "code",
      "execution_count": 16,
      "metadata": {
        "id": "HAuyslBG0tJO"
      },
      "outputs": [],
      "source": [
        "import pandas as pd\n",
        "df = pd.read_csv('amazon_cells_labelled1.txt', names=['sentence', 'label'], sep='\\t')"
      ]
    },
    {
      "cell_type": "code",
      "source": [
        "df"
      ],
      "metadata": {
        "id": "lXpJXcLJ08Dn",
        "colab": {
          "base_uri": "https://localhost:8080/",
          "height": 402
        },
        "outputId": "6bbcd103-7cc8-4605-90d6-ff81796e99a7"
      },
      "execution_count": 17,
      "outputs": [
        {
          "output_type": "execute_result",
          "data": {
            "text/plain": [
              "                                               sentence  label\n",
              "0     So there is no way for me to plug it in here i...      0\n",
              "1                           Good case, Excellent value.      1\n",
              "2                                Great for the jawbone.      1\n",
              "3     Tied to charger for conversations lasting more...      0\n",
              "4                                     The mic is great.      1\n",
              "...                                                 ...    ...\n",
              "1996  The screen does get smudged easily because it ...      0\n",
              "1997  What a piece of junk.. I lose more calls on th...      0\n",
              "1998                       Item Does Not Match Picture.      0\n",
              "1999  The only thing that disappoint me is the infra...      0\n",
              "2000  You can not answer calls with the unit, never ...      0\n",
              "\n",
              "[2001 rows x 2 columns]"
            ],
            "text/html": [
              "\n",
              "  <div id=\"df-13120cb0-9186-455d-905a-e520d589febc\">\n",
              "    <div class=\"colab-df-container\">\n",
              "      <div>\n",
              "<style scoped>\n",
              "    .dataframe tbody tr th:only-of-type {\n",
              "        vertical-align: middle;\n",
              "    }\n",
              "\n",
              "    .dataframe tbody tr th {\n",
              "        vertical-align: top;\n",
              "    }\n",
              "\n",
              "    .dataframe thead th {\n",
              "        text-align: right;\n",
              "    }\n",
              "</style>\n",
              "<table border=\"1\" class=\"dataframe\">\n",
              "  <thead>\n",
              "    <tr style=\"text-align: right;\">\n",
              "      <th></th>\n",
              "      <th>sentence</th>\n",
              "      <th>label</th>\n",
              "    </tr>\n",
              "  </thead>\n",
              "  <tbody>\n",
              "    <tr>\n",
              "      <th>0</th>\n",
              "      <td>So there is no way for me to plug it in here i...</td>\n",
              "      <td>0</td>\n",
              "    </tr>\n",
              "    <tr>\n",
              "      <th>1</th>\n",
              "      <td>Good case, Excellent value.</td>\n",
              "      <td>1</td>\n",
              "    </tr>\n",
              "    <tr>\n",
              "      <th>2</th>\n",
              "      <td>Great for the jawbone.</td>\n",
              "      <td>1</td>\n",
              "    </tr>\n",
              "    <tr>\n",
              "      <th>3</th>\n",
              "      <td>Tied to charger for conversations lasting more...</td>\n",
              "      <td>0</td>\n",
              "    </tr>\n",
              "    <tr>\n",
              "      <th>4</th>\n",
              "      <td>The mic is great.</td>\n",
              "      <td>1</td>\n",
              "    </tr>\n",
              "    <tr>\n",
              "      <th>...</th>\n",
              "      <td>...</td>\n",
              "      <td>...</td>\n",
              "    </tr>\n",
              "    <tr>\n",
              "      <th>1996</th>\n",
              "      <td>The screen does get smudged easily because it ...</td>\n",
              "      <td>0</td>\n",
              "    </tr>\n",
              "    <tr>\n",
              "      <th>1997</th>\n",
              "      <td>What a piece of junk.. I lose more calls on th...</td>\n",
              "      <td>0</td>\n",
              "    </tr>\n",
              "    <tr>\n",
              "      <th>1998</th>\n",
              "      <td>Item Does Not Match Picture.</td>\n",
              "      <td>0</td>\n",
              "    </tr>\n",
              "    <tr>\n",
              "      <th>1999</th>\n",
              "      <td>The only thing that disappoint me is the infra...</td>\n",
              "      <td>0</td>\n",
              "    </tr>\n",
              "    <tr>\n",
              "      <th>2000</th>\n",
              "      <td>You can not answer calls with the unit, never ...</td>\n",
              "      <td>0</td>\n",
              "    </tr>\n",
              "  </tbody>\n",
              "</table>\n",
              "<p>2001 rows × 2 columns</p>\n",
              "</div>\n",
              "      <button class=\"colab-df-convert\" onclick=\"convertToInteractive('df-13120cb0-9186-455d-905a-e520d589febc')\"\n",
              "              title=\"Convert this dataframe to an interactive table.\"\n",
              "              style=\"display:none;\">\n",
              "        \n",
              "  <svg xmlns=\"http://www.w3.org/2000/svg\" height=\"24px\"viewBox=\"0 0 24 24\"\n",
              "       width=\"24px\">\n",
              "    <path d=\"M0 0h24v24H0V0z\" fill=\"none\"/>\n",
              "    <path d=\"M18.56 5.44l.94 2.06.94-2.06 2.06-.94-2.06-.94-.94-2.06-.94 2.06-2.06.94zm-11 1L8.5 8.5l.94-2.06 2.06-.94-2.06-.94L8.5 2.5l-.94 2.06-2.06.94zm10 10l.94 2.06.94-2.06 2.06-.94-2.06-.94-.94-2.06-.94 2.06-2.06.94z\"/><path d=\"M17.41 7.96l-1.37-1.37c-.4-.4-.92-.59-1.43-.59-.52 0-1.04.2-1.43.59L10.3 9.45l-7.72 7.72c-.78.78-.78 2.05 0 2.83L4 21.41c.39.39.9.59 1.41.59.51 0 1.02-.2 1.41-.59l7.78-7.78 2.81-2.81c.8-.78.8-2.07 0-2.86zM5.41 20L4 18.59l7.72-7.72 1.47 1.35L5.41 20z\"/>\n",
              "  </svg>\n",
              "      </button>\n",
              "      \n",
              "  <style>\n",
              "    .colab-df-container {\n",
              "      display:flex;\n",
              "      flex-wrap:wrap;\n",
              "      gap: 12px;\n",
              "    }\n",
              "\n",
              "    .colab-df-convert {\n",
              "      background-color: #E8F0FE;\n",
              "      border: none;\n",
              "      border-radius: 50%;\n",
              "      cursor: pointer;\n",
              "      display: none;\n",
              "      fill: #1967D2;\n",
              "      height: 32px;\n",
              "      padding: 0 0 0 0;\n",
              "      width: 32px;\n",
              "    }\n",
              "\n",
              "    .colab-df-convert:hover {\n",
              "      background-color: #E2EBFA;\n",
              "      box-shadow: 0px 1px 2px rgba(60, 64, 67, 0.3), 0px 1px 3px 1px rgba(60, 64, 67, 0.15);\n",
              "      fill: #174EA6;\n",
              "    }\n",
              "\n",
              "    [theme=dark] .colab-df-convert {\n",
              "      background-color: #3B4455;\n",
              "      fill: #D2E3FC;\n",
              "    }\n",
              "\n",
              "    [theme=dark] .colab-df-convert:hover {\n",
              "      background-color: #434B5C;\n",
              "      box-shadow: 0px 1px 3px 1px rgba(0, 0, 0, 0.15);\n",
              "      filter: drop-shadow(0px 1px 2px rgba(0, 0, 0, 0.3));\n",
              "      fill: #FFFFFF;\n",
              "    }\n",
              "  </style>\n",
              "\n",
              "      <script>\n",
              "        const buttonEl =\n",
              "          document.querySelector('#df-13120cb0-9186-455d-905a-e520d589febc button.colab-df-convert');\n",
              "        buttonEl.style.display =\n",
              "          google.colab.kernel.accessAllowed ? 'block' : 'none';\n",
              "\n",
              "        async function convertToInteractive(key) {\n",
              "          const element = document.querySelector('#df-13120cb0-9186-455d-905a-e520d589febc');\n",
              "          const dataTable =\n",
              "            await google.colab.kernel.invokeFunction('convertToInteractive',\n",
              "                                                     [key], {});\n",
              "          if (!dataTable) return;\n",
              "\n",
              "          const docLinkHtml = 'Like what you see? Visit the ' +\n",
              "            '<a target=\"_blank\" href=https://colab.research.google.com/notebooks/data_table.ipynb>data table notebook</a>'\n",
              "            + ' to learn more about interactive tables.';\n",
              "          element.innerHTML = '';\n",
              "          dataTable['output_type'] = 'display_data';\n",
              "          await google.colab.output.renderOutput(dataTable, element);\n",
              "          const docLink = document.createElement('div');\n",
              "          docLink.innerHTML = docLinkHtml;\n",
              "          element.appendChild(docLink);\n",
              "        }\n",
              "      </script>\n",
              "    </div>\n",
              "  </div>\n",
              "  "
            ]
          },
          "metadata": {},
          "execution_count": 17
        }
      ]
    },
    {
      "cell_type": "code",
      "source": [
        "from sklearn.model_selection import train_test_split\n",
        "kalimat = df['sentence'].values\n",
        "y = df['label'].values\n",
        "kalimat_latih, kalimat_test, y_latih, y_test = train_test_split(kalimat, y, test_size=0.2)"
      ],
      "metadata": {
        "id": "huJFs-o_1uNY"
      },
      "execution_count": 18,
      "outputs": []
    },
    {
      "cell_type": "code",
      "source": [
        "from tensorflow.keras.preprocessing.text import Tokenizer\n",
        "from tensorflow.keras.preprocessing.sequence import pad_sequences\n",
        " \n",
        "tokenizer = Tokenizer(num_words=250, oov_token='x')\n",
        "tokenizer.fit_on_texts(kalimat_latih) \n",
        "tokenizer.fit_on_texts(kalimat_test)\n",
        " \n",
        "sekuens_latih = tokenizer.texts_to_sequences(kalimat_latih)\n",
        "sekuens_test = tokenizer.texts_to_sequences(kalimat_test)\n",
        " \n",
        "padded_latih = pad_sequences(sekuens_latih, maxlen=20) \n",
        "padded_test = pad_sequences(sekuens_test, maxlen=20)"
      ],
      "metadata": {
        "id": "xdmyMBXI2OnV"
      },
      "execution_count": 19,
      "outputs": []
    },
    {
      "cell_type": "code",
      "source": [
        "import tensorflow as tf\n",
        "model = tf.keras.Sequential([\n",
        "    tf.keras.layers.Embedding(250, 16, input_length=20),\n",
        "    tf.keras.layers.LSTM(32),\n",
        "    tf.keras.layers.Dense(24, activation='relu'),\n",
        "    tf.keras.layers.Dense(1, activation='sigmoid')\n",
        "])\n",
        "model.compile(loss='binary_crossentropy', optimizer=tf.optimizers.Adam(), metrics=['accuracy'])"
      ],
      "metadata": {
        "id": "vIuUaYaq3LCW"
      },
      "execution_count": 20,
      "outputs": []
    },
    {
      "cell_type": "code",
      "source": [
        "accuracy_threshold = 90e-2\n",
        "class my_callbacks(tf.keras.callbacks.Callback):\n",
        "    def on_epoch_end(self, epoch, logs = None):\n",
        "        if logs.get('val_accuracy') > accuracy_threshold:\n",
        "            print('Reached 90%, stop epoch')\n",
        "            self.model.stop_training = True"
      ],
      "metadata": {
        "id": "39bkhWhrQoWp"
      },
      "execution_count": 21,
      "outputs": []
    },
    {
      "cell_type": "code",
      "source": [
        "num_epochs = 30\n",
        "history = model.fit(padded_latih, y_latih, epochs=num_epochs, \n",
        "                    validation_data=(padded_test, y_test), verbose=2, callbacks = [my_callbacks()])"
      ],
      "metadata": {
        "id": "5bXGIjP_4OZn",
        "colab": {
          "base_uri": "https://localhost:8080/"
        },
        "outputId": "078e0dd8-c68d-4d35-9d1c-6623621128ab"
      },
      "execution_count": 22,
      "outputs": [
        {
          "output_type": "stream",
          "name": "stdout",
          "text": [
            "Epoch 1/30\n",
            "50/50 - 3s - loss: 0.6911 - accuracy: 0.5400 - val_loss: 0.6837 - val_accuracy: 0.6584 - 3s/epoch - 53ms/step\n",
            "Epoch 2/30\n",
            "50/50 - 0s - loss: 0.6261 - accuracy: 0.6975 - val_loss: 0.4952 - val_accuracy: 0.7781 - 337ms/epoch - 7ms/step\n",
            "Epoch 3/30\n",
            "50/50 - 0s - loss: 0.4484 - accuracy: 0.7994 - val_loss: 0.4021 - val_accuracy: 0.8105 - 288ms/epoch - 6ms/step\n",
            "Epoch 4/30\n",
            "50/50 - 0s - loss: 0.3502 - accuracy: 0.8494 - val_loss: 0.3453 - val_accuracy: 0.8429 - 274ms/epoch - 5ms/step\n",
            "Epoch 5/30\n",
            "50/50 - 0s - loss: 0.3041 - accuracy: 0.8625 - val_loss: 0.3382 - val_accuracy: 0.8454 - 271ms/epoch - 5ms/step\n",
            "Epoch 6/30\n",
            "50/50 - 0s - loss: 0.2822 - accuracy: 0.8756 - val_loss: 0.4681 - val_accuracy: 0.7880 - 236ms/epoch - 5ms/step\n",
            "Epoch 7/30\n",
            "50/50 - 0s - loss: 0.2925 - accuracy: 0.8756 - val_loss: 0.3297 - val_accuracy: 0.8579 - 230ms/epoch - 5ms/step\n",
            "Epoch 8/30\n",
            "50/50 - 0s - loss: 0.2513 - accuracy: 0.8956 - val_loss: 0.3104 - val_accuracy: 0.8753 - 239ms/epoch - 5ms/step\n",
            "Epoch 9/30\n",
            "50/50 - 0s - loss: 0.2430 - accuracy: 0.8925 - val_loss: 0.3075 - val_accuracy: 0.8903 - 241ms/epoch - 5ms/step\n",
            "Epoch 10/30\n",
            "50/50 - 0s - loss: 0.2272 - accuracy: 0.9031 - val_loss: 0.3115 - val_accuracy: 0.8628 - 229ms/epoch - 5ms/step\n",
            "Epoch 11/30\n",
            "50/50 - 0s - loss: 0.2285 - accuracy: 0.9094 - val_loss: 0.3012 - val_accuracy: 0.8928 - 271ms/epoch - 5ms/step\n",
            "Epoch 12/30\n",
            "Reached 90%, stop epoch\n",
            "50/50 - 0s - loss: 0.2178 - accuracy: 0.9087 - val_loss: 0.3017 - val_accuracy: 0.9102 - 240ms/epoch - 5ms/step\n"
          ]
        }
      ]
    }
  ]
}